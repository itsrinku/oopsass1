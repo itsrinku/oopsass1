{
 "cells": [
  {
   "cell_type": "code",
   "execution_count": 1,
   "id": "582993e9-305d-41d6-a67e-440dc648f6c4",
   "metadata": {},
   "outputs": [],
   "source": [
    "#ans1"
   ]
  },
  {
   "cell_type": "code",
   "execution_count": 2,
   "id": "bc3b0cf0-7145-428f-b46e-7745779d146a",
   "metadata": {},
   "outputs": [
    {
     "data": {
      "text/plain": [
       "'Object − Objects have states and behaviors. Example: A dog has states - color, name, breed as well as behaviors – wagging the tail, barking, eating. An object is an instance of a class. Class − A class can be defined as a template/blueprint that describes the behavior/state that the object of its type support.'"
      ]
     },
     "execution_count": 2,
     "metadata": {},
     "output_type": "execute_result"
    }
   ],
   "source": [
    "\"\"\"Object − Objects have states and behaviors. Example: A dog has states - color, name, breed as well as behaviors – wagging the tail, barking, eating. An object is an instance of a class. Class − A class can be defined as a template/blueprint that describes the behavior/state that the object of its type support.\"\"\""
   ]
  },
  {
   "cell_type": "code",
   "execution_count": 3,
   "id": "fffda09a-44cb-4aa8-9545-f2de03c06f71",
   "metadata": {},
   "outputs": [],
   "source": [
    "#ans2"
   ]
  },
  {
   "cell_type": "code",
   "execution_count": 5,
   "id": "11fe0976-7af9-435a-9373-f34eb1ce133d",
   "metadata": {},
   "outputs": [],
   "source": [
    "#1.polymorphism\n",
    "#2.inheritence\n",
    "#3.encapsulation\n",
    "#4.abstraction"
   ]
  },
  {
   "cell_type": "code",
   "execution_count": 7,
   "id": "7f0c17dc-eb62-4f5e-8655-bc460f1b13c1",
   "metadata": {},
   "outputs": [],
   "source": [
    "# ans3\n"
   ]
  },
  {
   "cell_type": "code",
   "execution_count": 8,
   "id": "4b6edbca-b0cb-45be-ac53-f77651027a40",
   "metadata": {},
   "outputs": [
    {
     "data": {
      "text/plain": [
       "'_init__ is a special python method that runs whenever a new object is created. These types of functions are used to initialize the attributes of that class, E.g., if the class is Person, then the attributes will be name, age, etc.'"
      ]
     },
     "execution_count": 8,
     "metadata": {},
     "output_type": "execute_result"
    }
   ],
   "source": [
    "\"\"\"_init__ is a special python method that runs whenever a new object is created. These types of functions are used to initialize the attributes of that class, E.g., if the class is Person, then the attributes will be name, age, etc.\"\"\""
   ]
  },
  {
   "cell_type": "code",
   "execution_count": 9,
   "id": "e628e819-16b8-467c-8a81-928a7c027c5e",
   "metadata": {},
   "outputs": [],
   "source": [
    "#ans4"
   ]
  },
  {
   "cell_type": "code",
   "execution_count": 10,
   "id": "d2300a51-6237-4a1a-a047-c3dd523dce8e",
   "metadata": {},
   "outputs": [
    {
     "data": {
      "text/plain": [
       "'The self parameter is a reference to the current instance of the class, and is used to access variables that belongs to the class.'"
      ]
     },
     "execution_count": 10,
     "metadata": {},
     "output_type": "execute_result"
    }
   ],
   "source": [
    "\"\"\"The self parameter is a reference to the current instance of the class, and is used to access variables that belongs to the class.\"\"\""
   ]
  },
  {
   "cell_type": "code",
   "execution_count": 11,
   "id": "caeba1dc-c5cc-4181-bc38-bce6e5c4811a",
   "metadata": {},
   "outputs": [],
   "source": [
    "#ans5"
   ]
  },
  {
   "cell_type": "code",
   "execution_count": 12,
   "id": "0e4b7ea3-953e-4d92-a05e-8b62ead9f6dd",
   "metadata": {},
   "outputs": [
    {
     "data": {
      "text/plain": [
       "'Inheritance is a mechanism in which one class acquires the property of another class. For example, a child inherits the traits of his/her parents. With inheritance, we can reuse the fields and methods of the existing class.'"
      ]
     },
     "execution_count": 12,
     "metadata": {},
     "output_type": "execute_result"
    }
   ],
   "source": [
    "\"\"\"Inheritance is a mechanism in which one class acquires the property of another class. For example, a child inherits the traits of his/her parents. With inheritance, we can reuse the fields and methods of the existing class.\"\"\""
   ]
  },
  {
   "cell_type": "code",
   "execution_count": null,
   "id": "eb49b1b3-6975-4a32-9a38-d195f7f20599",
   "metadata": {},
   "outputs": [],
   "source": []
  }
 ],
 "metadata": {
  "kernelspec": {
   "display_name": "Python 3 (ipykernel)",
   "language": "python",
   "name": "python3"
  },
  "language_info": {
   "codemirror_mode": {
    "name": "ipython",
    "version": 3
   },
   "file_extension": ".py",
   "mimetype": "text/x-python",
   "name": "python",
   "nbconvert_exporter": "python",
   "pygments_lexer": "ipython3",
   "version": "3.10.6"
  }
 },
 "nbformat": 4,
 "nbformat_minor": 5
}
